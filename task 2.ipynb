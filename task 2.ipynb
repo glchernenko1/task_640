{
 "cells": [
  {
   "cell_type": "code",
   "execution_count": 5,
   "metadata": {
    "collapsed": true
   },
   "outputs": [],
   "source": [
    "import numpy as np\n",
    "x_i=[3,8,13,18,23,28,33]\n",
    "x_i_1=[8,13,18,23,28,33,38]\n",
    "n_i=[6,8,15,40,16,8,7]\n",
    "n=100"
   ]
  },
  {
   "cell_type": "code",
   "execution_count": 6,
   "outputs": [
    {
     "name": "stdout",
     "output_type": "stream",
     "text": [
      "[5.5, 10.5, 15.5, 20.5, 25.5, 30.5, 35.5]\n",
      "[6, 8, 15, 40, 16, 8, 7]\n"
     ]
    }
   ],
   "source": [
    "f=lambda x,y: (x+y)/2\n",
    "x_i_new=[f(x,y) for x, y in zip(x_i, x_i_1)]\n",
    "print(x_i_new)\n",
    "print(n_i)"
   ],
   "metadata": {
    "collapsed": false,
    "pycharm": {
     "name": "#%%\n"
    }
   }
  },
  {
   "cell_type": "code",
   "execution_count": 14,
   "outputs": [],
   "source": [
    "def sample_mean(x_i, n_i, n):\n",
    "    sum = 0\n",
    "    for x_i_, n_i_ in zip(x_i, n_i):\n",
    "        sum += x_i_ * n_i_\n",
    "    return sum / n"
   ],
   "metadata": {
    "collapsed": false,
    "pycharm": {
     "name": "#%%\n"
    }
   }
  },
  {
   "cell_type": "code",
   "execution_count": 15,
   "outputs": [
    {
     "name": "stdout",
     "output_type": "stream",
     "text": [
      "20.7\n"
     ]
    }
   ],
   "source": [
    "x_=sample_mean(x_i_new, n_i, n)\n",
    "print(x_)"
   ],
   "metadata": {
    "collapsed": false,
    "pycharm": {
     "name": "#%%\n"
    }
   }
  },
  {
   "cell_type": "code",
   "execution_count": 16,
   "outputs": [],
   "source": [
    "def sigma(x_i, n_i, n):\n",
    "    sum = 0\n",
    "    for x_i_, n_i_ in zip(x_i, n_i):\n",
    "        sum += x_i_ * x_i_ * n_i_\n",
    "    sum /= n\n",
    "    return np.sqrt(sum - sample_mean(x_i,n_i, n)*sample_mean(x_i,n_i, n))"
   ],
   "metadata": {
    "collapsed": false,
    "pycharm": {
     "name": "#%%\n"
    }
   }
  },
  {
   "cell_type": "code",
   "execution_count": 21,
   "outputs": [
    {
     "name": "stdout",
     "output_type": "stream",
     "text": [
      "7.2774\n"
     ]
    }
   ],
   "source": [
    "sig = sigma(x_i_new, n_i, n)\n",
    "print('%.4f' % sig)"
   ],
   "metadata": {
    "collapsed": false,
    "pycharm": {
     "name": "#%%\n"
    }
   }
  },
  {
   "cell_type": "markdown",
   "source": [
    "#Поиск интервалов z_1= -бесконечность z_n=+ бесконечность"
   ],
   "metadata": {
    "collapsed": false
   }
  },
  {
   "cell_type": "code",
   "execution_count": 28,
   "outputs": [
    {
     "name": "stdout",
     "output_type": "stream",
     "text": [
      "-inf\n",
      "-1.7451\n",
      "-1.0581\n",
      "-0.3710\n",
      "0.3160\n",
      "1.0031\n",
      "1.6902\n"
     ]
    }
   ],
   "source": [
    "to_z_i= lambda x: (x-x_)/sig\n",
    "z_i= [to_z_i(item) for item in x_i]\n",
    "z_i= np.array(z_i)\n",
    "z_i[0]=-np.inf\n",
    "for i in z_i:\n",
    "   print('%.4f' % i)"
   ],
   "metadata": {
    "collapsed": false,
    "pycharm": {
     "name": "#%%\n"
    }
   }
  },
  {
   "cell_type": "code",
   "execution_count": 29,
   "outputs": [
    {
     "name": "stdout",
     "output_type": "stream",
     "text": [
      "-1.7451\n",
      "-1.0581\n",
      "-0.3710\n",
      "0.3160\n",
      "1.0031\n",
      "1.6902\n",
      "inf\n"
     ]
    }
   ],
   "source": [
    "z_i_1=[to_z_i(item) for item in x_i_1]\n",
    "z_i_1=np.array(z_i_1)\n",
    "z_i_1[len(z_i_1)-1]=+np.inf\n",
    "for i in z_i_1:\n",
    "   print('%.4f' % i)"
   ],
   "metadata": {
    "collapsed": false,
    "pycharm": {
     "name": "#%%\n"
    }
   }
  },
  {
   "cell_type": "code",
   "execution_count": 40,
   "outputs": [
    {
     "name": "stdout",
     "output_type": "stream",
     "text": [
      "0.004\n"
     ]
    }
   ],
   "source": [
    "from scipy.integrate import quad\n",
    "def integrand(z):\n",
    "    return np.exp(-z**2/2)\n",
    "\n",
    "Pfi = lambda x: round(1/np.sqrt(2* np.pi)*quad(integrand, 0, x)[0],4)\n",
    "\n"
   ],
   "metadata": {
    "collapsed": false,
    "pycharm": {
     "name": "#%%\n"
    }
   }
  },
  {
   "cell_type": "code",
   "execution_count": 41,
   "outputs": [
    {
     "name": "stdout",
     "output_type": "stream",
     "text": [
      "-0.5000\n",
      "-0.4595\n",
      "-0.3550\n",
      "-0.1447\n",
      "0.1240\n",
      "0.3421\n",
      "0.4545\n"
     ]
    }
   ],
   "source": [
    "pfi_z_i=[Pfi(item) for item in z_i]\n",
    "for i in pfi_z_i:\n",
    "   print('%.4f' % i)\n"
   ],
   "metadata": {
    "collapsed": false,
    "pycharm": {
     "name": "#%%\n"
    }
   }
  },
  {
   "cell_type": "code",
   "execution_count": 42,
   "outputs": [
    {
     "name": "stdout",
     "output_type": "stream",
     "text": [
      "-0.4595\n",
      "-0.3550\n",
      "-0.1447\n",
      "0.1240\n",
      "0.3421\n",
      "0.4545\n",
      "0.5000\n"
     ]
    }
   ],
   "source": [
    "pfi_z_i_1=[Pfi(item) for item in z_i_1]\n",
    "for i in pfi_z_i_1:\n",
    "   print('%.4f' % i)\n"
   ],
   "metadata": {
    "collapsed": false,
    "pycharm": {
     "name": "#%%\n"
    }
   }
  },
  {
   "cell_type": "code",
   "execution_count": 44,
   "outputs": [
    {
     "name": "stdout",
     "output_type": "stream",
     "text": [
      "0.0405\n",
      "0.1045\n",
      "0.2103\n",
      "0.2687\n",
      "0.2181\n",
      "0.1124\n",
      "0.0455\n"
     ]
    }
   ],
   "source": [
    "p_i=np.array(pfi_z_i_1)-np.array(pfi_z_i)\n",
    "for i in p_i:\n",
    "   print('%.4f' % i)"
   ],
   "metadata": {
    "collapsed": false,
    "pycharm": {
     "name": "#%%\n"
    }
   }
  },
  {
   "cell_type": "code",
   "execution_count": 45,
   "outputs": [
    {
     "name": "stdout",
     "output_type": "stream",
     "text": [
      "4.0500\n",
      "10.4500\n",
      "21.0300\n",
      "26.8700\n",
      "21.8100\n",
      "11.2400\n",
      "4.5500\n"
     ]
    }
   ],
   "source": [
    "n_i_=p_i*n\n",
    "for i in n_i_:\n",
    "   print('%.4f' % i)"
   ],
   "metadata": {
    "collapsed": false,
    "pycharm": {
     "name": "#%%\n"
    }
   }
  },
  {
   "cell_type": "markdown",
   "source": [
    "# Вычисляем наблюдаймое значение критерия пирсона\n"
   ],
   "metadata": {
    "collapsed": false
   }
  },
  {
   "cell_type": "code",
   "execution_count": 46,
   "outputs": [
    {
     "name": "stdout",
     "output_type": "stream",
     "text": [
      "13.459170199866243\n"
     ]
    }
   ],
   "source": [
    "x_nabl=0\n",
    "for a, b in zip(n_i, n_i_):\n",
    "    x_nabl+=(a-b)*(a-b)/b\n",
    "print(x_nabl)\n"
   ],
   "metadata": {
    "collapsed": false,
    "pycharm": {
     "name": "#%%\n"
    }
   }
  }
 ],
 "metadata": {
  "kernelspec": {
   "display_name": "Python 3",
   "language": "python",
   "name": "python3"
  },
  "language_info": {
   "codemirror_mode": {
    "name": "ipython",
    "version": 2
   },
   "file_extension": ".py",
   "mimetype": "text/x-python",
   "name": "python",
   "nbconvert_exporter": "python",
   "pygments_lexer": "ipython2",
   "version": "2.7.6"
  }
 },
 "nbformat": 4,
 "nbformat_minor": 0
}